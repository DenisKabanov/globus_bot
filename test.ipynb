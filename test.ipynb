{
 "cells": [
  {
   "cell_type": "code",
   "execution_count": 3,
   "metadata": {},
   "outputs": [],
   "source": [
    "DATA_DIR = \"./data/Австралия/\""
   ]
  },
  {
   "cell_type": "code",
   "execution_count": 13,
   "metadata": {},
   "outputs": [],
   "source": [
    "text = {}\n",
    "\n",
    "with open(DATA_DIR + \"description.txt\", \"r\") as f:\n",
    "    for hint in [\"Природа\", \"Достопримечательности\", \"Культура\", \"Язык\", \"История\", \"Города\"]:\n",
    "        text[hint] = f.readline()\n",
    "        f.readline()\n",
    "    text[\"Общее описание\"] = f.readlines(-1)"
   ]
  },
  {
   "cell_type": "code",
   "execution_count": 14,
   "metadata": {},
   "outputs": [
    {
     "data": {
      "text/plain": [
       "{'Природа': 'Природа: Эта страна известна уникальными природными ландшафтами, включая крупнейший коралловый риф в мире и множество национальных парков, заполненных удивительной флорой и фауной, включая таких животных, как кенгуру и коала.\\n',\n",
       " 'Достопримечательности': 'Достопримечательности: Здесь расположены всемирно известные достопримечательности, такие как Сиднейский оперный театр, который является шедевром архитектуры, и Улуру — священная для местных аборигенов монолитная скала.\\n',\n",
       " 'Культура': 'Культура: Культура этой страны представляет собой смесь традиционных обычаев коренных народов и европейских влияний. Жители отмечают праздники, такие как День Австралии, с разнообразными мероприятиями, отражающими их уникальную идентичность.\\n',\n",
       " 'Язык': 'Язык: Официальным языком этой страны является английский, который используется в государственных учреждениях и широко распространён в повседневной жизни населения.\\n',\n",
       " 'История': 'История: Эта страна была открыта европейцами в конце XVIII века, и первая колония была основана в 1788 году, что дало начало новой главе в её истории. Коренные народы обитают на этих землях на протяжении более 60 000 лет.\\n',\n",
       " 'Города': 'Города: Столицей является Канберра, однако крупнейшими и наиболее известными городами являются Сидней и Мельбурн, которые являются центрами культуры, бизнеса и развлечений.\\n',\n",
       " 'Общее описание': ['Общее описание:\\n',\n",
       "  'Эта страна, расположенная на южном полушарии, известна своим разнообразным природным богатством, включая знаменитый Большой барьерный риф и множество живописных национальных парков, где обитают уникальные виды животных, такие как кенгуру и коала. На её территории расположены всемирно известные достопримечательности, такие как Сиднейский оперный театр и монолит Улуру, которые привлекают миллионы туристов.\\n',\n",
       "  '\\n',\n",
       "  'Культура страны формировалась под влиянием как коренных народов, так и европейских поселенцев, что создаёт насыщенную и многообразную атмосферу, где традиции и современность переплетаются. Официальный язык — английский, и он широко используется в жизни и бизнесе. Столицей страны является Канберра, хотя крупнейшими и наиболее известными городами остаются Сидней и Мельбурн, привлекающие внимание своим культурным наследием и динамичной жизнью.']}"
      ]
     },
     "execution_count": 14,
     "metadata": {},
     "output_type": "execute_result"
    }
   ],
   "source": [
    "text"
   ]
  },
  {
   "cell_type": "code",
   "execution_count": 3,
   "metadata": {},
   "outputs": [
    {
     "name": "stdout",
     "output_type": "stream",
     "text": [
      "Collecting urllib3==1.26.15\n",
      "  Downloading urllib3-1.26.15-py2.py3-none-any.whl.metadata (48 kB)\n",
      "Downloading urllib3-1.26.15-py2.py3-none-any.whl (140 kB)\n",
      "Installing collected packages: urllib3\n",
      "  Attempting uninstall: urllib3\n",
      "    Found existing installation: urllib3 2.3.0\n",
      "    Uninstalling urllib3-2.3.0:\n",
      "      Successfully uninstalled urllib3-2.3.0\n",
      "Successfully installed urllib3-1.26.15\n",
      "Note: you may need to restart the kernel to use updated packages.\n"
     ]
    },
    {
     "name": "stderr",
     "output_type": "stream",
     "text": [
      "ERROR: pip's dependency resolver does not currently take into account all the packages that are installed. This behaviour is the source of the following dependency conflicts.\n",
      "conda-repo-cli 1.0.114 requires urllib3>=2.2.2, but you have urllib3 1.26.15 which is incompatible.\n"
     ]
    }
   ],
   "source": [
    "pip install urllib3==1.26.15"
   ]
  },
  {
   "cell_type": "code",
   "execution_count": null,
   "metadata": {},
   "outputs": [],
   "source": []
  }
 ],
 "metadata": {
  "kernelspec": {
   "display_name": "base",
   "language": "python",
   "name": "python3"
  },
  "language_info": {
   "codemirror_mode": {
    "name": "ipython",
    "version": 3
   },
   "file_extension": ".py",
   "mimetype": "text/x-python",
   "name": "python",
   "nbconvert_exporter": "python",
   "pygments_lexer": "ipython3",
   "version": "3.12.7"
  }
 },
 "nbformat": 4,
 "nbformat_minor": 2
}
